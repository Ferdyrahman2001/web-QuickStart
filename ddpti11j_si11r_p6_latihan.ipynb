{
  "cells": [
    {
      "cell_type": "markdown",
      "metadata": {
        "id": "view-in-github",
        "colab_type": "text"
      },
      "source": [
        "<a href=\"https://colab.research.google.com/github/Ferdyrahman2001/web-QuickStart/blob/main/ddpti11j_si11r_p6_latihan.ipynb\" target=\"_parent\"><img src=\"https://colab.research.google.com/assets/colab-badge.svg\" alt=\"Open In Colab\"/></a>"
      ]
    },
    {
      "cell_type": "code",
      "execution_count": null,
      "metadata": {
        "colab": {
          "base_uri": "https://localhost:8080/"
        },
        "id": "7j-E7qw0JIVL",
        "outputId": "6dc9ea7f-0875-40a1-9639-1ade5930f467"
      },
      "outputs": [
        {
          "name": "stdout",
          "output_type": "stream",
          "text": [
            "0\n",
            "1\n",
            "2\n",
            "3\n"
          ]
        }
      ],
      "source": [
        "a = 0\n",
        "while a <= 3:\n",
        "  print(a)\n",
        "  a += 1"
      ]
    },
    {
      "cell_type": "code",
      "execution_count": null,
      "metadata": {
        "colab": {
          "background_save": true,
          "base_uri": "https://localhost:8080/"
        },
        "id": "sS2F33kThcvh",
        "outputId": "043c5bb1-9712-4ab0-ab86-69ac2ba4c42d"
      },
      "outputs": [
        {
          "name": "stdout",
          "output_type": "stream",
          "text": [
            "0\n",
            "1\n",
            "2\n",
            "3\n",
            "4\n",
            "5\n",
            "6\n",
            "7\n",
            "8\n"
          ]
        }
      ],
      "source": [
        "count = 0\n",
        "while (count < 9):\n",
        "  print(count)\n",
        "  count = count + 1"
      ]
    },
    {
      "cell_type": "code",
      "execution_count": null,
      "metadata": {
        "colab": {
          "base_uri": "https://localhost:8080/"
        },
        "id": "SMrcsaITiYGj",
        "outputId": "52fde650-3706-4ea1-86af-d0a0ec2a7f4a"
      },
      "outputs": [
        {
          "name": "stdout",
          "output_type": "stream",
          "text": [
            "1\n",
            "\n",
            "4\n",
            "\n",
            "9\n",
            "\n",
            "16\n",
            "\n",
            "25\n",
            "\n",
            "36\n",
            "\n",
            "49\n",
            "\n",
            "64\n",
            "\n",
            "81\n",
            "\n",
            "100\n",
            "\n"
          ]
        }
      ],
      "source": [
        "j = 1\n",
        "while(j <= 10):\n",
        "  k = 1\n",
        "  while(k <= 10):\n",
        "    print(j*k)\n",
        "    k += 1\n",
        "    print()\n",
        "    j += 1"
      ]
    },
    {
      "cell_type": "code",
      "execution_count": null,
      "metadata": {
        "colab": {
          "base_uri": "https://localhost:8080/"
        },
        "id": "V69MHPeZjape",
        "outputId": "316bfdc2-2b59-4c8c-e3fc-4ff4bcbc98c7"
      },
      "outputs": [
        {
          "name": "stdout",
          "output_type": "stream",
          "text": [
            "1\n",
            "2\n",
            "3\n",
            "4\n",
            "5\n",
            "6\n",
            "7\n",
            "8\n",
            "9\n",
            "10\n"
          ]
        }
      ],
      "source": [
        "j = 1\n",
        "while(j <= 10):\n",
        "  print(j)\n",
        "  j += 1"
      ]
    },
    {
      "cell_type": "code",
      "execution_count": null,
      "metadata": {
        "colab": {
          "base_uri": "https://localhost:8080/"
        },
        "id": "u0cElDvQmjiv",
        "outputId": "a7edb895-6d49-46e2-b294-da8ab1969970"
      },
      "outputs": [
        {
          "name": "stdout",
          "output_type": "stream",
          "text": [
            "satu\n",
            "dua\n",
            "tiga\n",
            "dah\n"
          ]
        }
      ],
      "source": [
        "for i in['satu', 'dua', 'tiga']:\n",
        "  print(i)\n",
        "print('dah')"
      ]
    },
    {
      "cell_type": "code",
      "execution_count": null,
      "metadata": {
        "colab": {
          "base_uri": "https://localhost:8080/"
        },
        "id": "bRoyBqWVn5Ly",
        "outputId": "0c0735b1-81e3-48da-86ab-7a62c834bd88"
      },
      "outputs": [
        {
          "name": "stdout",
          "output_type": "stream",
          "text": [
            "12345678910\n",
            "2468101214161820\n",
            "36912151821242730\n",
            "481216202428323640\n",
            "5101520253035404550\n",
            "6121824303642485460\n",
            "7142128354249566370\n",
            "8162432404856647280\n",
            "9182736455463728190\n",
            "102030405060708090100\n"
          ]
        }
      ],
      "source": [
        "for i in range(1, 11):\n",
        "  for j in range(1, 11):\n",
        "    k = i*j\n",
        "    print(k, end='')\n",
        "  print()"
      ]
    },
    {
      "cell_type": "code",
      "execution_count": null,
      "metadata": {
        "colab": {
          "base_uri": "https://localhost:8080/"
        },
        "id": "WcbLUMUwpfex",
        "outputId": "48ade8bc-e87c-40b4-bc06-0c3fd30d27fb"
      },
      "outputs": [
        {
          "name": "stdout",
          "output_type": "stream",
          "text": [
            "1\n",
            "2\n",
            "3\n",
            "4\n",
            "5\n",
            "6\n",
            "7\n",
            "1\n",
            "2\n",
            "3\n",
            "4\n",
            "6\n",
            "7\n",
            "8\n",
            "9\n",
            "10\n",
            "0\n",
            "1\n",
            "2\n",
            "3\n",
            "4\n",
            "5\n",
            "tidak lebih besar dari 6\n"
          ]
        }
      ],
      "source": [
        "i = 1\n",
        "while i < 10:\n",
        "  print(i)\n",
        "  if i == 7:\n",
        "    break\n",
        "  i += 1\n",
        "j = 0\n",
        "while j < 10:\n",
        "  j += 1\n",
        "  if j == 5:\n",
        "    continue\n",
        "  print(j)\n",
        "a = 0\n",
        "while a < 6:\n",
        "  print(a)\n",
        "  a += 1\n",
        "else:\n",
        "  print(\"tidak lebih besar dari 6\")"
      ]
    },
    {
      "cell_type": "code",
      "execution_count": null,
      "metadata": {
        "id": "BsWVRqSIsmtb"
      },
      "outputs": [],
      "source": [
        "numbers = [\n",
        " 951, 402, 984, 651, 360, 69, 408, 319, 601, 485, 980, 507, 725, 547, 544,  615, 83, 165, 141, 501, 263, 617, 865, 575, 219, 390, 984, 592, 236, 105, 942, 941,  386, 462, 47, 418, 907, 344, 236, 375, 823, 566, 597, 978, 328, 615, 953, 345,  399, 162, 758, 219, 918, 237, 412, 566, 826, 248, 866, 950, 626, 949, 687, 217, 815, 67, 104, 58, 512, 24, 892, 894, 767, 553, 81, 379, 843, 831, 445, 742, 717, 958, 609, 842, 451, 688, 753, 854, 685, 93, 857, 440, 380, 126, 721, 328, 753, 470, 743, 527\n",
        "]\n",
        "index = 0\n",
        "while index < len(numbers):\n",
        "  if numbers[index] > 553:\n",
        "   break\n",
        "  if numbers[index] % 2 != 0:\n",
        "   print(numbers[index])\n",
        "   index += 1"
      ]
    },
    {
      "cell_type": "code",
      "source": [
        "numbers = [951, 402, 984, 651, 360, 69, 408, 319, 601, 485, 980, 507, 725, 547, 544,  615, 83, 165, 141, 501, 263, 617, 865, 575, 219, 390, 984, 592, 236, 105, 942, 941,  386, 462, 47, 418, 907, 344, 236, 375, 823, 566, 597, 978, 328, 615, 953, 345,  399, 162, 758, 219, 918, 237, 412, 566, 826, 248, 866, 950, 626, 949, 687, 217, 815, 67, 104, 58, 512, 24, 892, 894, 767, 553, 81, 379, 843, 831, 445, 742, 717, 958, 609, 842, 451, 688, 753, 854, 685, 93, 857, 440, 380, 126, 721, 328, 753, 470, 743, 527]\n",
        "index = 0\n",
        "while index < len(numbers):\n",
        "    if numbers[index] > 553:\n",
        "        break\n",
        "    if numbers[index] % 2 != 0:  # Mengecek apakah bilangan ganjil\n",
        "        print(numbers[index])\n",
        "    index += 1"
      ],
      "metadata": {
        "id": "sPL2L27E6cu7"
      },
      "execution_count": 3,
      "outputs": []
    },
    {
      "cell_type": "code",
      "source": [
        "# Inisialisasi variabel\n",
        "jumlah = 0\n",
        "output = \"\"\n",
        "\n",
        "# Menggunakan perulangan untuk menjumlahkan bilangan ganjil\n",
        "for i in range(1, 20, 2):\n",
        "    jumlah += i\n",
        "    output += str(i) + \" + \"\n",
        "\n",
        "# Menghapus tanda \" + \" di akhir string output\n",
        "output = output[:-3]  # Menghapus \" + \" terakhir\n",
        "output += \" = \" + str(jumlah)  # Menambahkan hasil penjumlahan\n",
        "\n",
        "# Menampilkan hasil\n",
        "print(output)"
      ],
      "metadata": {
        "colab": {
          "base_uri": "https://localhost:8080/"
        },
        "id": "lGIu9bfpqqV4",
        "outputId": "a6e60abb-1bc7-4871-e54f-136e310b5d67"
      },
      "execution_count": 4,
      "outputs": [
        {
          "output_type": "stream",
          "name": "stdout",
          "text": [
            "1 + 3 + 5 + 7 + 9 + 11 + 13 + 15 + 17 + 19 = 100\n"
          ]
        }
      ]
    },
    {
      "cell_type": "code",
      "source": [
        "# Minta input jumlah baris\n",
        "jumlah_baris = int(input(\"Masukkan jumlah baris: \"))\n",
        "\n",
        "# Menggunakan for loop untuk mencetak bintang\n",
        "for i in range(1, jumlah_baris + 1):\n",
        "    print('*' * i)"
      ],
      "metadata": {
        "colab": {
          "base_uri": "https://localhost:8080/"
        },
        "id": "8KnpRY_VlLcq",
        "outputId": "d42f9929-f435-4091-8023-abd371f7227e"
      },
      "execution_count": 5,
      "outputs": [
        {
          "output_type": "stream",
          "name": "stdout",
          "text": [
            "Masukkan jumlah baris: 1\n",
            "*\n"
          ]
        }
      ]
    }
  ],
  "metadata": {
    "colab": {
      "provenance": [],
      "authorship_tag": "ABX9TyPHx//iYeBVkpdLI4dXfhxa",
      "include_colab_link": true
    },
    "kernelspec": {
      "display_name": "Python 3",
      "name": "python3"
    },
    "language_info": {
      "name": "python"
    }
  },
  "nbformat": 4,
  "nbformat_minor": 0
}